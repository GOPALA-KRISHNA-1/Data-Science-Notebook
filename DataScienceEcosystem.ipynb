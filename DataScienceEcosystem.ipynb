{
 "cells": [
  {
   "cell_type": "markdown",
   "id": "53be31ea-3935-4a26-9af7-668d7874e273",
   "metadata": {},
   "source": []
  },
  {
   "cell_type": "markdown",
   "id": "c9e88886-9981-440f-afde-51a49a3e1b95",
   "metadata": {
    "tags": []
   },
   "source": [
    "# Data Science Tools and Ecosystem"
   ]
  },
  {
   "cell_type": "markdown",
   "id": "9f2ae059-5957-44aa-adf9-114f2ecb5878",
   "metadata": {},
   "source": [
    "In this notebook, Data Science Tools and Ecosystem are summarized."
   ]
  },
  {
   "cell_type": "markdown",
   "id": "21144ef3-c365-4995-ba21-db67ecf2cf15",
   "metadata": {},
   "source": [
    "\n",
    "\n",
    "**Some of the popular languages that Data Scientists use are:**\n",
    "\n",
    "1. **Python**: A versatile and widely-used language for data analysis, machine learning, and visualization. Its simplicity and extensive libraries (e.g., NumPy, pandas, scikit-learn) make it a favorite among data scientists.\n",
    "2. **R**: A language specifically designed for statistical computing and data visualization. Its strengths lie in data modeling, hypothesis testing, and data visualization, making it a popular choice among data analysts and statisticians.\n",
    "3. **SQL**: A language for managing and analyzing relational databases. Its ability to handle large datasets and perform complex queries makes it an essential tool for data scientists working with structured data."
   ]
  },
  {
   "cell_type": "markdown",
   "id": "5174309f-46be-455c-9773-4f8a61c8918c",
   "metadata": {},
   "source": [
    "\n",
    "**Some of the commonly used libraries used by Data Scientists include:**\n",
    "\n",
    "1. **NumPy**\n",
    "2. **pandas**: \n",
    "3. **Matplotlib**: "
   ]
  },
  {
   "cell_type": "markdown",
   "id": "6f33c786-793b-4993-b416-5063b8a6517e",
   "metadata": {},
   "source": [
    "\n",
    "| Data Science Tools |\n",
    "| --- |\n",
    "| **Jupyter Notebook** |\n",
    "| **Apache Zeppelin**|\n",
    "| **Spyder** |"
   ]
  },
  {
   "cell_type": "markdown",
   "id": "3afb2337-163d-4643-af95-5324f7e79c5d",
   "metadata": {},
   "source": [
    "\n",
    "### Below are a few examples of evaluating arithmetic expressions in Python.\n",
    "\n",
    "\n"
   ]
  },
  {
   "cell_type": "code",
   "execution_count": 2,
   "id": "badf2977-4162-4127-b234-4a9f2f32e85d",
   "metadata": {
    "tags": []
   },
   "outputs": [
    {
     "name": "stdout",
     "output_type": "stream",
     "text": [
      "17\n"
     ]
    }
   ],
   "source": [
    "# This is a simple arithmetic expression to multiply then add integers.\n",
    "result = (3*4) + 5\n",
    "print(result)"
   ]
  },
  {
   "cell_type": "code",
   "execution_count": 3,
   "id": "04f40da8-f62c-4893-aaa6-f21a8b75499e",
   "metadata": {
    "tags": []
   },
   "outputs": [
    {
     "name": "stdout",
     "output_type": "stream",
     "text": [
      "3.3333333333333335\n"
     ]
    }
   ],
   "source": [
    "# This will convert 200 minutes to hours by dividing by 60.\n",
    "hours = 200 / 60\n",
    "print(hours)"
   ]
  },
  {
   "cell_type": "markdown",
   "id": "b4c6acdf-27ba-465a-a6f4-ebfb403b4b91",
   "metadata": {},
   "source": [
    "# Objectives\n",
    "* R\n",
    "* Python\n",
    "* SQL"
   ]
  },
  {
   "cell_type": "markdown",
   "id": "5e4ce912-2a56-48f4-b60e-10416d3f0ca8",
   "metadata": {},
   "source": [
    "### Author\n",
    "**vamshi**"
   ]
  },
  {
   "cell_type": "code",
   "execution_count": null,
   "id": "76c7796c-821b-4dd7-9007-113dc5cafbfd",
   "metadata": {},
   "outputs": [],
   "source": []
  }
 ],
 "metadata": {
  "kernelspec": {
   "display_name": "Python",
   "language": "python",
   "name": "conda-env-python-py"
  },
  "language_info": {
   "codemirror_mode": {
    "name": "ipython",
    "version": 3
   },
   "file_extension": ".py",
   "mimetype": "text/x-python",
   "name": "python",
   "nbconvert_exporter": "python",
   "pygments_lexer": "ipython3",
   "version": "3.7.12"
  }
 },
 "nbformat": 4,
 "nbformat_minor": 5
}
